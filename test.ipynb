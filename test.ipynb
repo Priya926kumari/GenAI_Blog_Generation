{
 "cells": [
  {
   "cell_type": "code",
   "execution_count": null,
   "id": "c2ee33db",
   "metadata": {},
   "outputs": [],
   "source": [
    "import streamlit as st\n",
    "from langchain.prompts import PromptTemplate\n",
    "#from langchain.llms import Ctransformers  # now changed from langchain to langchain_community\n",
    "from langchain_community.llms import ctransformers\n"
   ]
  },
  {
   "cell_type": "code",
   "execution_count": null,
   "id": "51552c9e",
   "metadata": {},
   "outputs": [],
   "source": [
    "from langchain_community.llms import CTransformers\n"
   ]
  },
  {
   "cell_type": "code",
   "execution_count": 13,
   "id": "0e7e0c09",
   "metadata": {},
   "outputs": [],
   "source": [
    "#function to get response from LLAma2 model\n",
    "def getLLamaresponse(input_text, no_words,blog_style):\n",
    "    llm=ctransformers(model='models/llama-2-7b-chat.ggmlv3.q8_0.bin',model_type='llama',config={'max_new_tokens':256,'temperature':0.01})\n",
    "    ##Prompt Template\n",
    "\n",
    "    template=\"\"\"\n",
    "    write a blog for {blog_style} job profile for a topic {input_text}\n",
    "    within {no_words} words.\n",
    "\n",
    "    \"\"\"\n",
    "    prompt=PromptTemplate(input_variables=[\"style\",\"text\",\"n_words\"],\n",
    "                          template=template)\n",
    "    \n",
    "    ##generate the response from the LLama2 model\n",
    "    response=llm(prompt.format(style=blog_style,text=input_text,n_words=no_words))\n",
    "    print(response) \n",
    "    return response\n",
    " "
   ]
  },
  {
   "cell_type": "code",
   "execution_count": null,
   "id": "bf1f4fa8",
   "metadata": {},
   "outputs": [
    {
     "name": "stderr",
     "output_type": "stream",
     "text": [
      "2025-08-10 19:04:21.841 Thread 'MainThread': missing ScriptRunContext! This warning can be ignored when running in bare mode.\n",
      "2025-08-10 19:04:21.864 Thread 'MainThread': missing ScriptRunContext! This warning can be ignored when running in bare mode.\n"
     ]
    },
    {
     "name": "stderr",
     "output_type": "stream",
     "text": [
      "2025-08-10 19:04:21.866 Thread 'MainThread': missing ScriptRunContext! This warning can be ignored when running in bare mode.\n",
      "2025-08-10 19:04:21.872 Thread 'MainThread': missing ScriptRunContext! This warning can be ignored when running in bare mode.\n",
      "2025-08-10 19:04:21.880 Thread 'MainThread': missing ScriptRunContext! This warning can be ignored when running in bare mode.\n",
      "2025-08-10 19:04:21.889 Thread 'MainThread': missing ScriptRunContext! This warning can be ignored when running in bare mode.\n",
      "2025-08-10 19:04:21.896 Thread 'MainThread': missing ScriptRunContext! This warning can be ignored when running in bare mode.\n",
      "2025-08-10 19:04:21.910 Thread 'MainThread': missing ScriptRunContext! This warning can be ignored when running in bare mode.\n",
      "2025-08-10 19:04:21.912 Session state does not function when running a script without `streamlit run`\n",
      "2025-08-10 19:04:21.925 Thread 'MainThread': missing ScriptRunContext! This warning can be ignored when running in bare mode.\n",
      "2025-08-10 19:04:21.926 Thread 'MainThread': missing ScriptRunContext! This warning can be ignored when running in bare mode.\n",
      "2025-08-10 19:04:21.926 Thread 'MainThread': missing ScriptRunContext! This warning can be ignored when running in bare mode.\n",
      "2025-08-10 19:04:21.930 Thread 'MainThread': missing ScriptRunContext! This warning can be ignored when running in bare mode.\n",
      "2025-08-10 19:04:21.934 Thread 'MainThread': missing ScriptRunContext! This warning can be ignored when running in bare mode.\n",
      "2025-08-10 19:04:21.935 Thread 'MainThread': missing ScriptRunContext! This warning can be ignored when running in bare mode.\n",
      "2025-08-10 19:04:21.935 Thread 'MainThread': missing ScriptRunContext! This warning can be ignored when running in bare mode.\n",
      "2025-08-10 19:04:21.936 Thread 'MainThread': missing ScriptRunContext! This warning can be ignored when running in bare mode.\n",
      "2025-08-10 19:04:21.936 Thread 'MainThread': missing ScriptRunContext! This warning can be ignored when running in bare mode.\n",
      "2025-08-10 19:04:21.936 Thread 'MainThread': missing ScriptRunContext! This warning can be ignored when running in bare mode.\n",
      "2025-08-10 19:04:21.937 Thread 'MainThread': missing ScriptRunContext! This warning can be ignored when running in bare mode.\n",
      "2025-08-10 19:04:21.938 Thread 'MainThread': missing ScriptRunContext! This warning can be ignored when running in bare mode.\n",
      "2025-08-10 19:04:21.938 Thread 'MainThread': missing ScriptRunContext! This warning can be ignored when running in bare mode.\n",
      "2025-08-10 19:04:21.939 Thread 'MainThread': missing ScriptRunContext! This warning can be ignored when running in bare mode.\n",
      "2025-08-10 19:04:21.940 Thread 'MainThread': missing ScriptRunContext! This warning can be ignored when running in bare mode.\n",
      "2025-08-10 19:04:21.970 Thread 'MainThread': missing ScriptRunContext! This warning can be ignored when running in bare mode.\n",
      "2025-08-10 19:04:21.972 Thread 'MainThread': missing ScriptRunContext! This warning can be ignored when running in bare mode.\n",
      "2025-08-10 19:04:21.974 Thread 'MainThread': missing ScriptRunContext! This warning can be ignored when running in bare mode.\n",
      "2025-08-10 19:04:21.975 Thread 'MainThread': missing ScriptRunContext! This warning can be ignored when running in bare mode.\n",
      "2025-08-10 19:04:21.975 Thread 'MainThread': missing ScriptRunContext! This warning can be ignored when running in bare mode.\n"
     ]
    }
   ],
   "source": [
    "st.set_page_config(page_title=\"Generate Blogs\",\n",
    "                   layout='centered',\n",
    "                   initial_sidebar_state='collapsed')\n",
    "\n",
    "st.header(\"Generate Blogs\")\n",
    "\n",
    "input_text=st.text_input(\"Enter the Blog Topic\")\n",
    "\n",
    "##creating 2 more columns for additional 2 fields.\n",
    "\n",
    "col1,col2=st.columns([5,5])\n",
    "\n",
    "with col1:\n",
    "    no_words=st.text_input(\"No of words\")\n",
    "\n",
    "with col2:\n",
    "    blog_style=st.selectbox('Writing the blog for',\n",
    "                            ('Researchers','Data Scientist','Common People'),index=0)\n",
    "    \n",
    "submit=st.button(\"Generate\")\n",
    "\n",
    "if submit:\n",
    "    st.write(getLLamaresponse(input_text, no_words,blog_style))"
   ]
  },
  {
   "cell_type": "code",
   "execution_count": null,
   "id": "daa7e2fd",
   "metadata": {},
   "outputs": [],
   "source": []
  }
 ],
 "metadata": {
  "kernelspec": {
   "display_name": "venv",
   "language": "python",
   "name": "python3"
  },
  "language_info": {
   "codemirror_mode": {
    "name": "ipython",
    "version": 3
   },
   "file_extension": ".py",
   "mimetype": "text/x-python",
   "name": "python",
   "nbconvert_exporter": "python",
   "pygments_lexer": "ipython3",
   "version": "3.11.2"
  }
 },
 "nbformat": 4,
 "nbformat_minor": 5
}
